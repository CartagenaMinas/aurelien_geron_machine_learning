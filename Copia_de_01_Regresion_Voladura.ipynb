{
  "nbformat": 4,
  "nbformat_minor": 0,
  "metadata": {
    "colab": {
      "name": "Copia de 01_Regresion Voladura.ipynb",
      "provenance": [],
      "collapsed_sections": []
    },
    "kernelspec": {
      "name": "python3",
      "display_name": "Python 3"
    },
    "language_info": {
      "name": "python"
    }
  },
  "cells": [
    {
      "cell_type": "code",
      "metadata": {
        "id": "u3cFaZZJVLwa"
      },
      "source": [
        "import os\n",
        "from pathlib import Path\n",
        "import pandas as pd\n",
        "import matplotlib.pyplot as plt\n",
        "from sklearn.model_selection import train_test_split"
      ],
      "execution_count": 136,
      "outputs": []
    },
    {
      "cell_type": "code",
      "metadata": {
        "colab": {
          "base_uri": "https://localhost:8080/"
        },
        "id": "0uQNM-remSZT",
        "outputId": "9ae112ed-1dc9-4b09-9fff-cd83587b41ef"
      },
      "source": [
        "#Ver en que carpeta estas\n",
        "!pwd"
      ],
      "execution_count": 137,
      "outputs": [
        {
          "output_type": "stream",
          "text": [
            "/content\n"
          ],
          "name": "stdout"
        }
      ]
    },
    {
      "cell_type": "code",
      "metadata": {
        "id": "jy7VjCtvnEVa"
      },
      "source": [
        "#Path de la carpeta de Trabajo\n",
        "PATH=\"/content/DATA\""
      ],
      "execution_count": 138,
      "outputs": []
    },
    {
      "cell_type": "code",
      "metadata": {
        "id": "Wytvi7PymRmW"
      },
      "source": [
        "def crear_carpeta(PATH=PATH):\n",
        "    if not os.path.isdir(PATH):#V o F si existe el archivo en el directorio\n",
        "        os.makedirs(PATH)#si no existe lo creo\n",
        "crear_carpeta()#llamo a la funcion"
      ],
      "execution_count": 139,
      "outputs": []
    },
    {
      "cell_type": "code",
      "metadata": {
        "colab": {
          "base_uri": "https://localhost:8080/"
        },
        "id": "SSraakyvOKuo",
        "outputId": "d54c3d42-9fec-4704-ce56-679387d9589f"
      },
      "source": [
        "path = Path(PATH)\n",
        "os.listdir(path)"
      ],
      "execution_count": 140,
      "outputs": [
        {
          "output_type": "execute_result",
          "data": {
            "text/plain": [
              "['train_split.csv', 'test_split.csv']"
            ]
          },
          "metadata": {
            "tags": []
          },
          "execution_count": 140
        }
      ]
    },
    {
      "cell_type": "code",
      "metadata": {
        "colab": {
          "base_uri": "https://localhost:8080/",
          "height": 203
        },
        "id": "bnSNr6dsJUgP",
        "outputId": "9ee1bdc8-9401-42fd-93f7-63409cb8eb7a"
      },
      "source": [
        "train = pd.read_csv(f'{PATH}/train_split.csv')\n",
        "train.head()"
      ],
      "execution_count": 141,
      "outputs": [
        {
          "output_type": "execute_result",
          "data": {
            "text/html": [
              "<div>\n",
              "<style scoped>\n",
              "    .dataframe tbody tr th:only-of-type {\n",
              "        vertical-align: middle;\n",
              "    }\n",
              "\n",
              "    .dataframe tbody tr th {\n",
              "        vertical-align: top;\n",
              "    }\n",
              "\n",
              "    .dataframe thead th {\n",
              "        text-align: right;\n",
              "    }\n",
              "</style>\n",
              "<table border=\"1\" class=\"dataframe\">\n",
              "  <thead>\n",
              "    <tr style=\"text-align: right;\">\n",
              "      <th></th>\n",
              "      <th>P80_Planta</th>\n",
              "      <th>P80_Mina</th>\n",
              "      <th>BWI</th>\n",
              "      <th>FP</th>\n",
              "      <th>Throughput</th>\n",
              "    </tr>\n",
              "  </thead>\n",
              "  <tbody>\n",
              "    <tr>\n",
              "      <th>0</th>\n",
              "      <td>4.20</td>\n",
              "      <td>2.9</td>\n",
              "      <td>10.50</td>\n",
              "      <td>0.16</td>\n",
              "      <td>Bueno</td>\n",
              "    </tr>\n",
              "    <tr>\n",
              "      <th>1</th>\n",
              "      <td>6.02</td>\n",
              "      <td>3.3</td>\n",
              "      <td>35.25</td>\n",
              "      <td>1.56</td>\n",
              "      <td>Normal</td>\n",
              "    </tr>\n",
              "    <tr>\n",
              "      <th>2</th>\n",
              "      <td>5.99</td>\n",
              "      <td>2.8</td>\n",
              "      <td>36.00</td>\n",
              "      <td>1.76</td>\n",
              "      <td>Deficiente</td>\n",
              "    </tr>\n",
              "    <tr>\n",
              "      <th>3</th>\n",
              "      <td>4.72</td>\n",
              "      <td>3.1</td>\n",
              "      <td>11.25</td>\n",
              "      <td>0.06</td>\n",
              "      <td>Bueno</td>\n",
              "    </tr>\n",
              "    <tr>\n",
              "      <th>4</th>\n",
              "      <td>6.71</td>\n",
              "      <td>3.1</td>\n",
              "      <td>40.50</td>\n",
              "      <td>2.06</td>\n",
              "      <td>Deficiente</td>\n",
              "    </tr>\n",
              "  </tbody>\n",
              "</table>\n",
              "</div>"
            ],
            "text/plain": [
              "   P80_Planta  P80_Mina    BWI    FP  Throughput\n",
              "0        4.20       2.9  10.50  0.16       Bueno\n",
              "1        6.02       3.3  35.25  1.56      Normal\n",
              "2        5.99       2.8  36.00  1.76  Deficiente\n",
              "3        4.72       3.1  11.25  0.06       Bueno\n",
              "4        6.71       3.1  40.50  2.06  Deficiente"
            ]
          },
          "metadata": {
            "tags": []
          },
          "execution_count": 141
        }
      ]
    },
    {
      "cell_type": "code",
      "metadata": {
        "id": "QIfiYupdOcl7",
        "colab": {
          "base_uri": "https://localhost:8080/",
          "height": 203
        },
        "outputId": "57366f3a-0e41-4570-cd74-ddb88b428d13"
      },
      "source": [
        "test = pd.read_csv(f'{PATH}/test_split.csv')\n",
        "test.head()"
      ],
      "execution_count": 142,
      "outputs": [
        {
          "output_type": "execute_result",
          "data": {
            "text/html": [
              "<div>\n",
              "<style scoped>\n",
              "    .dataframe tbody tr th:only-of-type {\n",
              "        vertical-align: middle;\n",
              "    }\n",
              "\n",
              "    .dataframe tbody tr th {\n",
              "        vertical-align: top;\n",
              "    }\n",
              "\n",
              "    .dataframe thead th {\n",
              "        text-align: right;\n",
              "    }\n",
              "</style>\n",
              "<table border=\"1\" class=\"dataframe\">\n",
              "  <thead>\n",
              "    <tr style=\"text-align: right;\">\n",
              "      <th></th>\n",
              "      <th>P80_Planta</th>\n",
              "      <th>P80_Mina</th>\n",
              "      <th>BWI</th>\n",
              "      <th>FP</th>\n",
              "      <th>Throughput</th>\n",
              "    </tr>\n",
              "  </thead>\n",
              "  <tbody>\n",
              "    <tr>\n",
              "      <th>0</th>\n",
              "      <td>4.11</td>\n",
              "      <td>3.0</td>\n",
              "      <td>9.75</td>\n",
              "      <td>0.16</td>\n",
              "      <td>Bueno</td>\n",
              "    </tr>\n",
              "    <tr>\n",
              "      <th>1</th>\n",
              "      <td>6.50</td>\n",
              "      <td>3.0</td>\n",
              "      <td>37.50</td>\n",
              "      <td>1.66</td>\n",
              "      <td>Normal</td>\n",
              "    </tr>\n",
              "    <tr>\n",
              "      <th>2</th>\n",
              "      <td>7.04</td>\n",
              "      <td>2.9</td>\n",
              "      <td>47.25</td>\n",
              "      <td>1.76</td>\n",
              "      <td>Deficiente</td>\n",
              "    </tr>\n",
              "    <tr>\n",
              "      <th>3</th>\n",
              "      <td>6.57</td>\n",
              "      <td>3.2</td>\n",
              "      <td>44.25</td>\n",
              "      <td>2.26</td>\n",
              "      <td>Deficiente</td>\n",
              "    </tr>\n",
              "    <tr>\n",
              "      <th>4</th>\n",
              "      <td>4.16</td>\n",
              "      <td>3.2</td>\n",
              "      <td>9.75</td>\n",
              "      <td>0.16</td>\n",
              "      <td>Bueno</td>\n",
              "    </tr>\n",
              "  </tbody>\n",
              "</table>\n",
              "</div>"
            ],
            "text/plain": [
              "   P80_Planta  P80_Mina    BWI    FP  Throughput\n",
              "0        4.11       3.0   9.75  0.16       Bueno\n",
              "1        6.50       3.0  37.50  1.66      Normal\n",
              "2        7.04       2.9  47.25  1.76  Deficiente\n",
              "3        6.57       3.2  44.25  2.26  Deficiente\n",
              "4        4.16       3.2   9.75  0.16       Bueno"
            ]
          },
          "metadata": {
            "tags": []
          },
          "execution_count": 142
        }
      ]
    },
    {
      "cell_type": "code",
      "metadata": {
        "colab": {
          "base_uri": "https://localhost:8080/"
        },
        "id": "nsqdHXnjeaIC",
        "outputId": "b0401f35-a42d-42c4-e8f4-62441906b715"
      },
      "source": [
        "import numpy as np\n",
        "X_cat=train[[\"Throughput\"]]\n",
        "X_cat.shape"
      ],
      "execution_count": 143,
      "outputs": [
        {
          "output_type": "execute_result",
          "data": {
            "text/plain": [
              "(120, 1)"
            ]
          },
          "metadata": {
            "tags": []
          },
          "execution_count": 143
        }
      ]
    },
    {
      "cell_type": "code",
      "metadata": {
        "id": "5g8ABxNsljS-",
        "colab": {
          "base_uri": "https://localhost:8080/"
        },
        "outputId": "f73e164a-5571-44f0-abe9-69d70651c931"
      },
      "source": [
        "from sklearn.preprocessing import OneHotEncoder\n",
        "onehotencoder = OneHotEncoder()\n",
        "X_cat = onehotencoder.fit_transform(X_cat).toarray()#El to array es xq por defecto te lo da en un sparce\n",
        "onehotencoder.categories_"
      ],
      "execution_count": 144,
      "outputs": [
        {
          "output_type": "execute_result",
          "data": {
            "text/plain": [
              "[array(['Bueno', 'Deficiente', 'Normal'], dtype=object)]"
            ]
          },
          "metadata": {
            "tags": []
          },
          "execution_count": 144
        }
      ]
    },
    {
      "cell_type": "code",
      "metadata": {
        "colab": {
          "base_uri": "https://localhost:8080/",
          "height": 417
        },
        "id": "SgRuCUprmv5D",
        "outputId": "57845b66-e106-40aa-ad10-544ee409ef4c"
      },
      "source": [
        " X_cat = pd.DataFrame(X_cat)\n",
        " X_cat"
      ],
      "execution_count": 145,
      "outputs": [
        {
          "output_type": "execute_result",
          "data": {
            "text/html": [
              "<div>\n",
              "<style scoped>\n",
              "    .dataframe tbody tr th:only-of-type {\n",
              "        vertical-align: middle;\n",
              "    }\n",
              "\n",
              "    .dataframe tbody tr th {\n",
              "        vertical-align: top;\n",
              "    }\n",
              "\n",
              "    .dataframe thead th {\n",
              "        text-align: right;\n",
              "    }\n",
              "</style>\n",
              "<table border=\"1\" class=\"dataframe\">\n",
              "  <thead>\n",
              "    <tr style=\"text-align: right;\">\n",
              "      <th></th>\n",
              "      <th>0</th>\n",
              "      <th>1</th>\n",
              "      <th>2</th>\n",
              "    </tr>\n",
              "  </thead>\n",
              "  <tbody>\n",
              "    <tr>\n",
              "      <th>0</th>\n",
              "      <td>1.0</td>\n",
              "      <td>0.0</td>\n",
              "      <td>0.0</td>\n",
              "    </tr>\n",
              "    <tr>\n",
              "      <th>1</th>\n",
              "      <td>0.0</td>\n",
              "      <td>0.0</td>\n",
              "      <td>1.0</td>\n",
              "    </tr>\n",
              "    <tr>\n",
              "      <th>2</th>\n",
              "      <td>0.0</td>\n",
              "      <td>1.0</td>\n",
              "      <td>0.0</td>\n",
              "    </tr>\n",
              "    <tr>\n",
              "      <th>3</th>\n",
              "      <td>1.0</td>\n",
              "      <td>0.0</td>\n",
              "      <td>0.0</td>\n",
              "    </tr>\n",
              "    <tr>\n",
              "      <th>4</th>\n",
              "      <td>0.0</td>\n",
              "      <td>1.0</td>\n",
              "      <td>0.0</td>\n",
              "    </tr>\n",
              "    <tr>\n",
              "      <th>...</th>\n",
              "      <td>...</td>\n",
              "      <td>...</td>\n",
              "      <td>...</td>\n",
              "    </tr>\n",
              "    <tr>\n",
              "      <th>115</th>\n",
              "      <td>1.0</td>\n",
              "      <td>0.0</td>\n",
              "      <td>0.0</td>\n",
              "    </tr>\n",
              "    <tr>\n",
              "      <th>116</th>\n",
              "      <td>1.0</td>\n",
              "      <td>0.0</td>\n",
              "      <td>0.0</td>\n",
              "    </tr>\n",
              "    <tr>\n",
              "      <th>117</th>\n",
              "      <td>1.0</td>\n",
              "      <td>0.0</td>\n",
              "      <td>0.0</td>\n",
              "    </tr>\n",
              "    <tr>\n",
              "      <th>118</th>\n",
              "      <td>0.0</td>\n",
              "      <td>1.0</td>\n",
              "      <td>0.0</td>\n",
              "    </tr>\n",
              "    <tr>\n",
              "      <th>119</th>\n",
              "      <td>1.0</td>\n",
              "      <td>0.0</td>\n",
              "      <td>0.0</td>\n",
              "    </tr>\n",
              "  </tbody>\n",
              "</table>\n",
              "<p>120 rows × 3 columns</p>\n",
              "</div>"
            ],
            "text/plain": [
              "       0    1    2\n",
              "0    1.0  0.0  0.0\n",
              "1    0.0  0.0  1.0\n",
              "2    0.0  1.0  0.0\n",
              "3    1.0  0.0  0.0\n",
              "4    0.0  1.0  0.0\n",
              "..   ...  ...  ...\n",
              "115  1.0  0.0  0.0\n",
              "116  1.0  0.0  0.0\n",
              "117  1.0  0.0  0.0\n",
              "118  0.0  1.0  0.0\n",
              "119  1.0  0.0  0.0\n",
              "\n",
              "[120 rows x 3 columns]"
            ]
          },
          "metadata": {
            "tags": []
          },
          "execution_count": 145
        }
      ]
    },
    {
      "cell_type": "code",
      "metadata": {
        "colab": {
          "base_uri": "https://localhost:8080/",
          "height": 417
        },
        "id": "hoSNSdnsniAZ",
        "outputId": "7b1be6a5-91be-4ac7-e550-ff5537d8ccc3"
      },
      "source": [
        "X_numerical = train[['P80_Mina', 'BWI', 'FP']]\n",
        "X_numerical"
      ],
      "execution_count": 146,
      "outputs": [
        {
          "output_type": "execute_result",
          "data": {
            "text/html": [
              "<div>\n",
              "<style scoped>\n",
              "    .dataframe tbody tr th:only-of-type {\n",
              "        vertical-align: middle;\n",
              "    }\n",
              "\n",
              "    .dataframe tbody tr th {\n",
              "        vertical-align: top;\n",
              "    }\n",
              "\n",
              "    .dataframe thead th {\n",
              "        text-align: right;\n",
              "    }\n",
              "</style>\n",
              "<table border=\"1\" class=\"dataframe\">\n",
              "  <thead>\n",
              "    <tr style=\"text-align: right;\">\n",
              "      <th></th>\n",
              "      <th>P80_Mina</th>\n",
              "      <th>BWI</th>\n",
              "      <th>FP</th>\n",
              "    </tr>\n",
              "  </thead>\n",
              "  <tbody>\n",
              "    <tr>\n",
              "      <th>0</th>\n",
              "      <td>2.9</td>\n",
              "      <td>10.50</td>\n",
              "      <td>0.16</td>\n",
              "    </tr>\n",
              "    <tr>\n",
              "      <th>1</th>\n",
              "      <td>3.3</td>\n",
              "      <td>35.25</td>\n",
              "      <td>1.56</td>\n",
              "    </tr>\n",
              "    <tr>\n",
              "      <th>2</th>\n",
              "      <td>2.8</td>\n",
              "      <td>36.00</td>\n",
              "      <td>1.76</td>\n",
              "    </tr>\n",
              "    <tr>\n",
              "      <th>3</th>\n",
              "      <td>3.1</td>\n",
              "      <td>11.25</td>\n",
              "      <td>0.06</td>\n",
              "    </tr>\n",
              "    <tr>\n",
              "      <th>4</th>\n",
              "      <td>3.1</td>\n",
              "      <td>40.50</td>\n",
              "      <td>2.06</td>\n",
              "    </tr>\n",
              "    <tr>\n",
              "      <th>...</th>\n",
              "      <td>...</td>\n",
              "      <td>...</td>\n",
              "      <td>...</td>\n",
              "    </tr>\n",
              "    <tr>\n",
              "      <th>115</th>\n",
              "      <td>3.1</td>\n",
              "      <td>11.25</td>\n",
              "      <td>0.06</td>\n",
              "    </tr>\n",
              "    <tr>\n",
              "      <th>116</th>\n",
              "      <td>3.2</td>\n",
              "      <td>9.75</td>\n",
              "      <td>0.16</td>\n",
              "    </tr>\n",
              "    <tr>\n",
              "      <th>117</th>\n",
              "      <td>4.2</td>\n",
              "      <td>10.50</td>\n",
              "      <td>0.16</td>\n",
              "    </tr>\n",
              "    <tr>\n",
              "      <th>118</th>\n",
              "      <td>3.0</td>\n",
              "      <td>44.25</td>\n",
              "      <td>2.06</td>\n",
              "    </tr>\n",
              "    <tr>\n",
              "      <th>119</th>\n",
              "      <td>3.1</td>\n",
              "      <td>11.25</td>\n",
              "      <td>0.16</td>\n",
              "    </tr>\n",
              "  </tbody>\n",
              "</table>\n",
              "<p>120 rows × 3 columns</p>\n",
              "</div>"
            ],
            "text/plain": [
              "     P80_Mina    BWI    FP\n",
              "0         2.9  10.50  0.16\n",
              "1         3.3  35.25  1.56\n",
              "2         2.8  36.00  1.76\n",
              "3         3.1  11.25  0.06\n",
              "4         3.1  40.50  2.06\n",
              "..        ...    ...   ...\n",
              "115       3.1  11.25  0.06\n",
              "116       3.2   9.75  0.16\n",
              "117       4.2  10.50  0.16\n",
              "118       3.0  44.25  2.06\n",
              "119       3.1  11.25  0.16\n",
              "\n",
              "[120 rows x 3 columns]"
            ]
          },
          "metadata": {
            "tags": []
          },
          "execution_count": 146
        }
      ]
    },
    {
      "cell_type": "code",
      "metadata": {
        "colab": {
          "base_uri": "https://localhost:8080/",
          "height": 417
        },
        "id": "YPasYeMpnzKv",
        "outputId": "2d143109-aba0-4a1c-c360-5289c8bda95e"
      },
      "source": [
        "X_all = pd.concat([X_cat, X_numerical], axis = 1)\n",
        "X_all"
      ],
      "execution_count": 147,
      "outputs": [
        {
          "output_type": "execute_result",
          "data": {
            "text/html": [
              "<div>\n",
              "<style scoped>\n",
              "    .dataframe tbody tr th:only-of-type {\n",
              "        vertical-align: middle;\n",
              "    }\n",
              "\n",
              "    .dataframe tbody tr th {\n",
              "        vertical-align: top;\n",
              "    }\n",
              "\n",
              "    .dataframe thead th {\n",
              "        text-align: right;\n",
              "    }\n",
              "</style>\n",
              "<table border=\"1\" class=\"dataframe\">\n",
              "  <thead>\n",
              "    <tr style=\"text-align: right;\">\n",
              "      <th></th>\n",
              "      <th>0</th>\n",
              "      <th>1</th>\n",
              "      <th>2</th>\n",
              "      <th>P80_Mina</th>\n",
              "      <th>BWI</th>\n",
              "      <th>FP</th>\n",
              "    </tr>\n",
              "  </thead>\n",
              "  <tbody>\n",
              "    <tr>\n",
              "      <th>0</th>\n",
              "      <td>1.0</td>\n",
              "      <td>0.0</td>\n",
              "      <td>0.0</td>\n",
              "      <td>2.9</td>\n",
              "      <td>10.50</td>\n",
              "      <td>0.16</td>\n",
              "    </tr>\n",
              "    <tr>\n",
              "      <th>1</th>\n",
              "      <td>0.0</td>\n",
              "      <td>0.0</td>\n",
              "      <td>1.0</td>\n",
              "      <td>3.3</td>\n",
              "      <td>35.25</td>\n",
              "      <td>1.56</td>\n",
              "    </tr>\n",
              "    <tr>\n",
              "      <th>2</th>\n",
              "      <td>0.0</td>\n",
              "      <td>1.0</td>\n",
              "      <td>0.0</td>\n",
              "      <td>2.8</td>\n",
              "      <td>36.00</td>\n",
              "      <td>1.76</td>\n",
              "    </tr>\n",
              "    <tr>\n",
              "      <th>3</th>\n",
              "      <td>1.0</td>\n",
              "      <td>0.0</td>\n",
              "      <td>0.0</td>\n",
              "      <td>3.1</td>\n",
              "      <td>11.25</td>\n",
              "      <td>0.06</td>\n",
              "    </tr>\n",
              "    <tr>\n",
              "      <th>4</th>\n",
              "      <td>0.0</td>\n",
              "      <td>1.0</td>\n",
              "      <td>0.0</td>\n",
              "      <td>3.1</td>\n",
              "      <td>40.50</td>\n",
              "      <td>2.06</td>\n",
              "    </tr>\n",
              "    <tr>\n",
              "      <th>...</th>\n",
              "      <td>...</td>\n",
              "      <td>...</td>\n",
              "      <td>...</td>\n",
              "      <td>...</td>\n",
              "      <td>...</td>\n",
              "      <td>...</td>\n",
              "    </tr>\n",
              "    <tr>\n",
              "      <th>115</th>\n",
              "      <td>1.0</td>\n",
              "      <td>0.0</td>\n",
              "      <td>0.0</td>\n",
              "      <td>3.1</td>\n",
              "      <td>11.25</td>\n",
              "      <td>0.06</td>\n",
              "    </tr>\n",
              "    <tr>\n",
              "      <th>116</th>\n",
              "      <td>1.0</td>\n",
              "      <td>0.0</td>\n",
              "      <td>0.0</td>\n",
              "      <td>3.2</td>\n",
              "      <td>9.75</td>\n",
              "      <td>0.16</td>\n",
              "    </tr>\n",
              "    <tr>\n",
              "      <th>117</th>\n",
              "      <td>1.0</td>\n",
              "      <td>0.0</td>\n",
              "      <td>0.0</td>\n",
              "      <td>4.2</td>\n",
              "      <td>10.50</td>\n",
              "      <td>0.16</td>\n",
              "    </tr>\n",
              "    <tr>\n",
              "      <th>118</th>\n",
              "      <td>0.0</td>\n",
              "      <td>1.0</td>\n",
              "      <td>0.0</td>\n",
              "      <td>3.0</td>\n",
              "      <td>44.25</td>\n",
              "      <td>2.06</td>\n",
              "    </tr>\n",
              "    <tr>\n",
              "      <th>119</th>\n",
              "      <td>1.0</td>\n",
              "      <td>0.0</td>\n",
              "      <td>0.0</td>\n",
              "      <td>3.1</td>\n",
              "      <td>11.25</td>\n",
              "      <td>0.16</td>\n",
              "    </tr>\n",
              "  </tbody>\n",
              "</table>\n",
              "<p>120 rows × 6 columns</p>\n",
              "</div>"
            ],
            "text/plain": [
              "       0    1    2  P80_Mina    BWI    FP\n",
              "0    1.0  0.0  0.0       2.9  10.50  0.16\n",
              "1    0.0  0.0  1.0       3.3  35.25  1.56\n",
              "2    0.0  1.0  0.0       2.8  36.00  1.76\n",
              "3    1.0  0.0  0.0       3.1  11.25  0.06\n",
              "4    0.0  1.0  0.0       3.1  40.50  2.06\n",
              "..   ...  ...  ...       ...    ...   ...\n",
              "115  1.0  0.0  0.0       3.1  11.25  0.06\n",
              "116  1.0  0.0  0.0       3.2   9.75  0.16\n",
              "117  1.0  0.0  0.0       4.2  10.50  0.16\n",
              "118  0.0  1.0  0.0       3.0  44.25  2.06\n",
              "119  1.0  0.0  0.0       3.1  11.25  0.16\n",
              "\n",
              "[120 rows x 6 columns]"
            ]
          },
          "metadata": {
            "tags": []
          },
          "execution_count": 147
        }
      ]
    },
    {
      "cell_type": "code",
      "metadata": {
        "id": "r2irV8kXoDmu"
      },
      "source": [
        "from sklearn.preprocessing import MinMaxScaler\n",
        "scaler = MinMaxScaler()\n",
        "X_all = scaler.fit_transform(X_all)"
      ],
      "execution_count": 148,
      "outputs": []
    },
    {
      "cell_type": "code",
      "metadata": {
        "colab": {
          "base_uri": "https://localhost:8080/"
        },
        "id": "65xoz906oFMV",
        "outputId": "ed67f3dc-5a30-4eb0-9dc9-5c7622c58317"
      },
      "source": [
        "X_all[:5]"
      ],
      "execution_count": 149,
      "outputs": [
        {
          "output_type": "execute_result",
          "data": {
            "text/plain": [
              "array([[1.        , 0.        , 0.        , 0.375     , 0.05172414,\n",
              "        0.04166667],\n",
              "       [0.        , 0.        , 1.        , 0.54166667, 0.62068966,\n",
              "        0.625     ],\n",
              "       [0.        , 1.        , 0.        , 0.33333333, 0.63793103,\n",
              "        0.70833333],\n",
              "       [1.        , 0.        , 0.        , 0.45833333, 0.06896552,\n",
              "        0.        ],\n",
              "       [0.        , 1.        , 0.        , 0.45833333, 0.74137931,\n",
              "        0.83333333]])"
            ]
          },
          "metadata": {
            "tags": []
          },
          "execution_count": 149
        }
      ]
    },
    {
      "cell_type": "code",
      "metadata": {
        "colab": {
          "base_uri": "https://localhost:8080/"
        },
        "id": "p8hze6DkoPil",
        "outputId": "68139d3a-0afd-4c08-b4d9-f42b56bb0ec3"
      },
      "source": [
        "y = train['P80_Planta']\n",
        "y[:5]"
      ],
      "execution_count": 150,
      "outputs": [
        {
          "output_type": "execute_result",
          "data": {
            "text/plain": [
              "0    4.20\n",
              "1    6.02\n",
              "2    5.99\n",
              "3    4.72\n",
              "4    6.71\n",
              "Name: P80_Planta, dtype: float64"
            ]
          },
          "metadata": {
            "tags": []
          },
          "execution_count": 150
        }
      ]
    },
    {
      "cell_type": "code",
      "metadata": {
        "colab": {
          "base_uri": "https://localhost:8080/"
        },
        "id": "V6KyaroowF3y",
        "outputId": "20340b31-5dea-42d5-f4a3-83c28d83b639"
      },
      "source": [
        "X_all.shape,y.shape"
      ],
      "execution_count": 151,
      "outputs": [
        {
          "output_type": "execute_result",
          "data": {
            "text/plain": [
              "((120, 6), (120,))"
            ]
          },
          "metadata": {
            "tags": []
          },
          "execution_count": 151
        }
      ]
    },
    {
      "cell_type": "code",
      "metadata": {
        "colab": {
          "base_uri": "https://localhost:8080/"
        },
        "id": "2WuR6qD2vdO0",
        "outputId": "e8036735-bc5f-4c6e-e3c6-e18f1d4c1b29"
      },
      "source": [
        "from sklearn.linear_model import LinearRegression\n",
        "lin_reg = LinearRegression()\n",
        "lin_reg.fit(X_all,y)"
      ],
      "execution_count": 152,
      "outputs": [
        {
          "output_type": "execute_result",
          "data": {
            "text/plain": [
              "LinearRegression(copy_X=True, fit_intercept=True, n_jobs=None, normalize=False)"
            ]
          },
          "metadata": {
            "tags": []
          },
          "execution_count": 152
        }
      ]
    },
    {
      "cell_type": "code",
      "metadata": {
        "id": "oAlst7M-q5PD",
        "colab": {
          "base_uri": "https://localhost:8080/"
        },
        "outputId": "c103b585-e269-42ab-cbae-d2dc90c3d42d"
      },
      "source": [
        "print(\"Predictions:\", lin_reg.predict(X_all[:5]))"
      ],
      "execution_count": 153,
      "outputs": [
        {
          "output_type": "stream",
          "text": [
            "Predictions: [4.51041445 6.25076908 5.82166667 4.71351387 6.32986774]\n"
          ],
          "name": "stdout"
        }
      ]
    },
    {
      "cell_type": "code",
      "metadata": {
        "colab": {
          "base_uri": "https://localhost:8080/"
        },
        "id": "N3PjNCCvxXZ3",
        "outputId": "cd1f14ce-66c5-4e22-fec0-5e4c948d758a"
      },
      "source": [
        "print(\"Labels:\", y[:5])"
      ],
      "execution_count": 154,
      "outputs": [
        {
          "output_type": "stream",
          "text": [
            "Labels: 0    4.20\n",
            "1    6.02\n",
            "2    5.99\n",
            "3    4.72\n",
            "4    6.71\n",
            "Name: P80_Planta, dtype: float64\n"
          ],
          "name": "stdout"
        }
      ]
    },
    {
      "cell_type": "code",
      "metadata": {
        "colab": {
          "base_uri": "https://localhost:8080/"
        },
        "id": "bYtp4d3kx7Vm",
        "outputId": "fd78768b-a320-435d-c76e-a31a68bad243"
      },
      "source": [
        "from sklearn.metrics import mean_squared_error\n",
        "voladura_predictions = lin_reg.predict(X_all)\n",
        "lin_mse = mean_squared_error(y, voladura_predictions)\n",
        "lin_rmse = np.sqrt(lin_mse)\n",
        "lin_rmse"
      ],
      "execution_count": 155,
      "outputs": [
        {
          "output_type": "execute_result",
          "data": {
            "text/plain": [
              "0.29955155640681497"
            ]
          },
          "metadata": {
            "tags": []
          },
          "execution_count": 155
        }
      ]
    },
    {
      "cell_type": "code",
      "metadata": {
        "colab": {
          "base_uri": "https://localhost:8080/"
        },
        "id": "xnisx6LgyRnd",
        "outputId": "706eacfb-2fc3-4554-c508-4277fae2343a"
      },
      "source": [
        "from sklearn.metrics import mean_absolute_error\n",
        "lin_mae = mean_absolute_error(y, voladura_predictions)\n",
        "lin_mae"
      ],
      "execution_count": 156,
      "outputs": [
        {
          "output_type": "execute_result",
          "data": {
            "text/plain": [
              "0.25150436209710914"
            ]
          },
          "metadata": {
            "tags": []
          },
          "execution_count": 156
        }
      ]
    },
    {
      "cell_type": "code",
      "metadata": {
        "colab": {
          "base_uri": "https://localhost:8080/"
        },
        "id": "bvbXJQgrybZ8",
        "outputId": "96456b32-ea2a-408d-ee44-029391aeca02"
      },
      "source": [
        "from sklearn.tree import DecisionTreeRegressor\n",
        "tree_reg = DecisionTreeRegressor(random_state=42)\n",
        "tree_reg.fit(X_all,y)"
      ],
      "execution_count": 157,
      "outputs": [
        {
          "output_type": "execute_result",
          "data": {
            "text/plain": [
              "DecisionTreeRegressor(ccp_alpha=0.0, criterion='mse', max_depth=None,\n",
              "                      max_features=None, max_leaf_nodes=None,\n",
              "                      min_impurity_decrease=0.0, min_impurity_split=None,\n",
              "                      min_samples_leaf=1, min_samples_split=2,\n",
              "                      min_weight_fraction_leaf=0.0, presort='deprecated',\n",
              "                      random_state=42, splitter='best')"
            ]
          },
          "metadata": {
            "tags": []
          },
          "execution_count": 157
        }
      ]
    },
    {
      "cell_type": "code",
      "metadata": {
        "colab": {
          "base_uri": "https://localhost:8080/"
        },
        "id": "MKWwtMALyfsE",
        "outputId": "8a8d0f0d-8f17-4e4e-82b0-6b6a5b560267"
      },
      "source": [
        "voladura_predictions = tree_reg.predict(X_all)\n",
        "tree_mse = mean_squared_error(y, voladura_predictions)\n",
        "tree_rmse = np.sqrt(tree_mse)\n",
        "tree_rmse"
      ],
      "execution_count": 158,
      "outputs": [
        {
          "output_type": "execute_result",
          "data": {
            "text/plain": [
              "0.0029814239699997224"
            ]
          },
          "metadata": {
            "tags": []
          },
          "execution_count": 158
        }
      ]
    },
    {
      "cell_type": "code",
      "metadata": {
        "id": "YF8BNeWvy-JM"
      },
      "source": [
        "from sklearn.model_selection import cross_val_score\n",
        "scores = cross_val_score(tree_reg, X_all,y,\n",
        " scoring=\"neg_mean_squared_error\", cv=3)\n",
        "tree_rmse_scores = np.sqrt(-scores)"
      ],
      "execution_count": 159,
      "outputs": []
    },
    {
      "cell_type": "code",
      "metadata": {
        "colab": {
          "base_uri": "https://localhost:8080/"
        },
        "id": "D1ywrIFmzIxT",
        "outputId": "0ec95166-02f6-40a9-cd83-ff8fcd772abe"
      },
      "source": [
        "def display_scores(scores):\n",
        "  print(\"Scores:\", scores)\n",
        "  print(\"Mean:\", scores.mean())\n",
        "  print(\"Standard deviation:\", scores.std())\n",
        "\n",
        "display_scores(tree_rmse_scores)"
      ],
      "execution_count": 160,
      "outputs": [
        {
          "output_type": "stream",
          "text": [
            "Scores: [0.38948363 0.39485124 0.4908895 ]\n",
            "Mean: 0.4250747896986417\n",
            "Standard deviation: 0.046589589280463105\n"
          ],
          "name": "stdout"
        }
      ]
    },
    {
      "cell_type": "code",
      "metadata": {
        "colab": {
          "base_uri": "https://localhost:8080/"
        },
        "id": "-PHDV3h49S40",
        "outputId": "dddc3b87-8bb4-40ff-c08e-8aeb53de76d9"
      },
      "source": [
        "from sklearn.ensemble import RandomForestRegressor\n",
        "\n",
        "forest_reg = RandomForestRegressor(n_estimators=100, random_state=42)\n",
        "forest_reg.fit(X_all,y)"
      ],
      "execution_count": 161,
      "outputs": [
        {
          "output_type": "execute_result",
          "data": {
            "text/plain": [
              "RandomForestRegressor(bootstrap=True, ccp_alpha=0.0, criterion='mse',\n",
              "                      max_depth=None, max_features='auto', max_leaf_nodes=None,\n",
              "                      max_samples=None, min_impurity_decrease=0.0,\n",
              "                      min_impurity_split=None, min_samples_leaf=1,\n",
              "                      min_samples_split=2, min_weight_fraction_leaf=0.0,\n",
              "                      n_estimators=100, n_jobs=None, oob_score=False,\n",
              "                      random_state=42, verbose=0, warm_start=False)"
            ]
          },
          "metadata": {
            "tags": []
          },
          "execution_count": 161
        }
      ]
    },
    {
      "cell_type": "code",
      "metadata": {
        "colab": {
          "base_uri": "https://localhost:8080/"
        },
        "id": "AR_VPprq9bUY",
        "outputId": "000b4a1e-b1ba-4dcc-fead-3c18c8b81147"
      },
      "source": [
        "voladura_predictions = forest_reg.predict(X_all)\n",
        "forest_mse = mean_squared_error(y, voladura_predictions)\n",
        "forest_rmse = np.sqrt(forest_mse)\n",
        "forest_rmse"
      ],
      "execution_count": 162,
      "outputs": [
        {
          "output_type": "execute_result",
          "data": {
            "text/plain": [
              "0.11200357094859155"
            ]
          },
          "metadata": {
            "tags": []
          },
          "execution_count": 162
        }
      ]
    },
    {
      "cell_type": "code",
      "metadata": {
        "colab": {
          "base_uri": "https://localhost:8080/"
        },
        "id": "vKOqhEP59t-1",
        "outputId": "c9081b40-aa49-49a8-a028-7312cb28c7fd"
      },
      "source": [
        "from sklearn.model_selection import cross_val_score\n",
        "\n",
        "forest_scores = cross_val_score(forest_reg, X_all,y,\n",
        "                                scoring=\"neg_mean_squared_error\", cv=3)\n",
        "forest_rmse_scores = np.sqrt(-forest_scores)\n",
        "display_scores(forest_rmse_scores)"
      ],
      "execution_count": 163,
      "outputs": [
        {
          "output_type": "stream",
          "text": [
            "Scores: [0.31252238 0.32340618 0.36464314]\n",
            "Mean: 0.3335238983976366\n",
            "Standard deviation: 0.022448750865493868\n"
          ],
          "name": "stdout"
        }
      ]
    },
    {
      "cell_type": "code",
      "metadata": {
        "colab": {
          "base_uri": "https://localhost:8080/"
        },
        "id": "9xd5rKfT-J6n",
        "outputId": "07a1776f-517b-4f96-dffb-2ddded81457b"
      },
      "source": [
        "scores = cross_val_score(lin_reg, X_all,y, scoring=\"neg_mean_squared_error\", cv=10)\n",
        "pd.Series(np.sqrt(-scores)).describe()"
      ],
      "execution_count": 164,
      "outputs": [
        {
          "output_type": "execute_result",
          "data": {
            "text/plain": [
              "count    10.000000\n",
              "mean      0.321944\n",
              "std       0.057778\n",
              "min       0.176198\n",
              "25%       0.305397\n",
              "50%       0.342345\n",
              "75%       0.350426\n",
              "max       0.386046\n",
              "dtype: float64"
            ]
          },
          "metadata": {
            "tags": []
          },
          "execution_count": 164
        }
      ]
    },
    {
      "cell_type": "code",
      "metadata": {
        "colab": {
          "base_uri": "https://localhost:8080/"
        },
        "id": "8D0Pdz36-QNu",
        "outputId": "7c441b28-9b3e-4f3e-ebc2-9909e20b877a"
      },
      "source": [
        "from sklearn.svm import SVR\n",
        "svm_reg = SVR(kernel=\"linear\")\n",
        "svm_reg.fit(X_all,y)\n",
        "voladura_predictions = svm_reg.predict(X_all)\n",
        "svm_mse = mean_squared_error(y, voladura_predictions)\n",
        "svm_rmse = np.sqrt(svm_mse)\n",
        "svm_rmse"
      ],
      "execution_count": 165,
      "outputs": [
        {
          "output_type": "execute_result",
          "data": {
            "text/plain": [
              "0.3507647264251666"
            ]
          },
          "metadata": {
            "tags": []
          },
          "execution_count": 165
        }
      ]
    },
    {
      "cell_type": "code",
      "metadata": {
        "colab": {
          "base_uri": "https://localhost:8080/"
        },
        "id": "rgd0Oxqb-jJH",
        "outputId": "92f99674-f96b-4dbb-92a9-464a08bd10fd"
      },
      "source": [
        "from sklearn.model_selection import GridSearchCV\n",
        "\n",
        "param_grid = [\n",
        "    # try 12 (3×4) combinations of hyperparameters\n",
        "    {'n_estimators': [3, 10, 30], 'max_features': [2, 4]},\n",
        "    # then try 6 (2×3) combinations with bootstrap set as False\n",
        "    {'bootstrap': [False], 'n_estimators': [3, 10], 'max_features': [2,4]},\n",
        "  ]\n",
        "\n",
        "forest_reg = RandomForestRegressor(random_state=42)\n",
        "# train across 5 folds, that's a total of (12+6)*5=90 rounds of training \n",
        "grid_search = GridSearchCV(forest_reg, param_grid, cv=5,\n",
        "                           scoring='neg_mean_squared_error',\n",
        "                           return_train_score=True)\n",
        "grid_search.fit(X_all,y)"
      ],
      "execution_count": 171,
      "outputs": [
        {
          "output_type": "execute_result",
          "data": {
            "text/plain": [
              "GridSearchCV(cv=5, error_score=nan,\n",
              "             estimator=RandomForestRegressor(bootstrap=True, ccp_alpha=0.0,\n",
              "                                             criterion='mse', max_depth=None,\n",
              "                                             max_features='auto',\n",
              "                                             max_leaf_nodes=None,\n",
              "                                             max_samples=None,\n",
              "                                             min_impurity_decrease=0.0,\n",
              "                                             min_impurity_split=None,\n",
              "                                             min_samples_leaf=1,\n",
              "                                             min_samples_split=2,\n",
              "                                             min_weight_fraction_leaf=0.0,\n",
              "                                             n_estimators=100, n_jobs=None,\n",
              "                                             oob_score=False, random_state=42,\n",
              "                                             verbose=0, warm_start=False),\n",
              "             iid='deprecated', n_jobs=None,\n",
              "             param_grid=[{'max_features': [2, 4], 'n_estimators': [3, 10, 30]},\n",
              "                         {'bootstrap': [False], 'max_features': [2, 4],\n",
              "                          'n_estimators': [3, 10]}],\n",
              "             pre_dispatch='2*n_jobs', refit=True, return_train_score=True,\n",
              "             scoring='neg_mean_squared_error', verbose=0)"
            ]
          },
          "metadata": {
            "tags": []
          },
          "execution_count": 171
        }
      ]
    },
    {
      "cell_type": "code",
      "metadata": {
        "colab": {
          "base_uri": "https://localhost:8080/"
        },
        "id": "-z2ugl4W-t2u",
        "outputId": "adeca315-f7e7-41cf-b681-b5912913f918"
      },
      "source": [
        "grid_search.best_params_"
      ],
      "execution_count": 172,
      "outputs": [
        {
          "output_type": "execute_result",
          "data": {
            "text/plain": [
              "{'max_features': 2, 'n_estimators': 30}"
            ]
          },
          "metadata": {
            "tags": []
          },
          "execution_count": 172
        }
      ]
    },
    {
      "cell_type": "code",
      "metadata": {
        "colab": {
          "base_uri": "https://localhost:8080/"
        },
        "id": "q0D4Metj-v9e",
        "outputId": "a8b32f52-0093-4969-b8f5-e617b05b5e1b"
      },
      "source": [
        "grid_search.best_estimator_"
      ],
      "execution_count": 173,
      "outputs": [
        {
          "output_type": "execute_result",
          "data": {
            "text/plain": [
              "RandomForestRegressor(bootstrap=True, ccp_alpha=0.0, criterion='mse',\n",
              "                      max_depth=None, max_features=2, max_leaf_nodes=None,\n",
              "                      max_samples=None, min_impurity_decrease=0.0,\n",
              "                      min_impurity_split=None, min_samples_leaf=1,\n",
              "                      min_samples_split=2, min_weight_fraction_leaf=0.0,\n",
              "                      n_estimators=30, n_jobs=None, oob_score=False,\n",
              "                      random_state=42, verbose=0, warm_start=False)"
            ]
          },
          "metadata": {
            "tags": []
          },
          "execution_count": 173
        }
      ]
    },
    {
      "cell_type": "code",
      "metadata": {
        "colab": {
          "base_uri": "https://localhost:8080/"
        },
        "id": "9QKs7Lkp-ykN",
        "outputId": "3a3125a7-d275-497a-a91b-e5dd22a78317"
      },
      "source": [
        "cvres = grid_search.cv_results_\n",
        "for mean_score, params in zip(cvres[\"mean_test_score\"], cvres[\"params\"]):\n",
        "    print(np.sqrt(-mean_score), params)"
      ],
      "execution_count": 169,
      "outputs": [
        {
          "output_type": "stream",
          "text": [
            "0.3548687788546089 {'max_features': 2, 'n_estimators': 3}\n",
            "0.34972884607618204 {'max_features': 2, 'n_estimators': 10}\n",
            "0.33497636760817484 {'max_features': 2, 'n_estimators': 30}\n",
            "0.3789627906639633 {'max_features': 4, 'n_estimators': 3}\n",
            "0.34853742989388825 {'max_features': 4, 'n_estimators': 10}\n",
            "0.3404254379606486 {'max_features': 4, 'n_estimators': 30}\n",
            "0.35523781250727554 {'max_features': 6, 'n_estimators': 3}\n",
            "0.33386428378368743 {'max_features': 6, 'n_estimators': 10}\n",
            "0.3270844033502787 {'max_features': 6, 'n_estimators': 30}\n",
            "nan {'max_features': 8, 'n_estimators': 3}\n",
            "nan {'max_features': 8, 'n_estimators': 10}\n",
            "nan {'max_features': 8, 'n_estimators': 30}\n",
            "0.3554806055263069 {'bootstrap': False, 'max_features': 2, 'n_estimators': 3}\n",
            "0.35129199762105695 {'bootstrap': False, 'max_features': 2, 'n_estimators': 10}\n",
            "0.3697643699714881 {'bootstrap': False, 'max_features': 3, 'n_estimators': 3}\n",
            "0.3518396349243555 {'bootstrap': False, 'max_features': 3, 'n_estimators': 10}\n",
            "0.3909973924533894 {'bootstrap': False, 'max_features': 4, 'n_estimators': 3}\n",
            "0.3599227669211107 {'bootstrap': False, 'max_features': 4, 'n_estimators': 10}\n"
          ],
          "name": "stdout"
        }
      ]
    },
    {
      "cell_type": "code",
      "metadata": {
        "colab": {
          "base_uri": "https://localhost:8080/",
          "height": 1000
        },
        "id": "uXGN2Sna-0i9",
        "outputId": "00284e25-63b9-4094-c5c9-d6f8eb6a4d6b"
      },
      "source": [
        "pd.DataFrame(grid_search.cv_results_)"
      ],
      "execution_count": 170,
      "outputs": [
        {
          "output_type": "execute_result",
          "data": {
            "text/html": [
              "<div>\n",
              "<style scoped>\n",
              "    .dataframe tbody tr th:only-of-type {\n",
              "        vertical-align: middle;\n",
              "    }\n",
              "\n",
              "    .dataframe tbody tr th {\n",
              "        vertical-align: top;\n",
              "    }\n",
              "\n",
              "    .dataframe thead th {\n",
              "        text-align: right;\n",
              "    }\n",
              "</style>\n",
              "<table border=\"1\" class=\"dataframe\">\n",
              "  <thead>\n",
              "    <tr style=\"text-align: right;\">\n",
              "      <th></th>\n",
              "      <th>mean_fit_time</th>\n",
              "      <th>std_fit_time</th>\n",
              "      <th>mean_score_time</th>\n",
              "      <th>std_score_time</th>\n",
              "      <th>param_max_features</th>\n",
              "      <th>param_n_estimators</th>\n",
              "      <th>param_bootstrap</th>\n",
              "      <th>params</th>\n",
              "      <th>split0_test_score</th>\n",
              "      <th>split1_test_score</th>\n",
              "      <th>split2_test_score</th>\n",
              "      <th>split3_test_score</th>\n",
              "      <th>split4_test_score</th>\n",
              "      <th>mean_test_score</th>\n",
              "      <th>std_test_score</th>\n",
              "      <th>rank_test_score</th>\n",
              "      <th>split0_train_score</th>\n",
              "      <th>split1_train_score</th>\n",
              "      <th>split2_train_score</th>\n",
              "      <th>split3_train_score</th>\n",
              "      <th>split4_train_score</th>\n",
              "      <th>mean_train_score</th>\n",
              "      <th>std_train_score</th>\n",
              "    </tr>\n",
              "  </thead>\n",
              "  <tbody>\n",
              "    <tr>\n",
              "      <th>0</th>\n",
              "      <td>0.004980</td>\n",
              "      <td>0.000615</td>\n",
              "      <td>0.000883</td>\n",
              "      <td>0.000115</td>\n",
              "      <td>2</td>\n",
              "      <td>3</td>\n",
              "      <td>NaN</td>\n",
              "      <td>{'max_features': 2, 'n_estimators': 3}</td>\n",
              "      <td>-0.084252</td>\n",
              "      <td>-0.172580</td>\n",
              "      <td>-0.112051</td>\n",
              "      <td>-0.113746</td>\n",
              "      <td>-0.147030</td>\n",
              "      <td>-0.125932</td>\n",
              "      <td>0.030658</td>\n",
              "      <td>9</td>\n",
              "      <td>-0.037357</td>\n",
              "      <td>-0.019238</td>\n",
              "      <td>-0.032739</td>\n",
              "      <td>-0.029722</td>\n",
              "      <td>-3.609769e-02</td>\n",
              "      <td>-0.031031</td>\n",
              "      <td>0.006471</td>\n",
              "    </tr>\n",
              "    <tr>\n",
              "      <th>1</th>\n",
              "      <td>0.013976</td>\n",
              "      <td>0.001632</td>\n",
              "      <td>0.001566</td>\n",
              "      <td>0.000283</td>\n",
              "      <td>2</td>\n",
              "      <td>10</td>\n",
              "      <td>NaN</td>\n",
              "      <td>{'max_features': 2, 'n_estimators': 10}</td>\n",
              "      <td>-0.081194</td>\n",
              "      <td>-0.181674</td>\n",
              "      <td>-0.097088</td>\n",
              "      <td>-0.144788</td>\n",
              "      <td>-0.106807</td>\n",
              "      <td>-0.122310</td>\n",
              "      <td>0.036322</td>\n",
              "      <td>6</td>\n",
              "      <td>-0.020734</td>\n",
              "      <td>-0.014240</td>\n",
              "      <td>-0.018678</td>\n",
              "      <td>-0.016841</td>\n",
              "      <td>-1.798534e-02</td>\n",
              "      <td>-0.017696</td>\n",
              "      <td>0.002143</td>\n",
              "    </tr>\n",
              "    <tr>\n",
              "      <th>2</th>\n",
              "      <td>0.041160</td>\n",
              "      <td>0.002921</td>\n",
              "      <td>0.002601</td>\n",
              "      <td>0.000061</td>\n",
              "      <td>2</td>\n",
              "      <td>30</td>\n",
              "      <td>NaN</td>\n",
              "      <td>{'max_features': 2, 'n_estimators': 30}</td>\n",
              "      <td>-0.079446</td>\n",
              "      <td>-0.167756</td>\n",
              "      <td>-0.069492</td>\n",
              "      <td>-0.149382</td>\n",
              "      <td>-0.094969</td>\n",
              "      <td>-0.112209</td>\n",
              "      <td>0.039148</td>\n",
              "      <td>3</td>\n",
              "      <td>-0.019489</td>\n",
              "      <td>-0.014043</td>\n",
              "      <td>-0.017843</td>\n",
              "      <td>-0.015594</td>\n",
              "      <td>-1.462953e-02</td>\n",
              "      <td>-0.016320</td>\n",
              "      <td>0.002046</td>\n",
              "    </tr>\n",
              "    <tr>\n",
              "      <th>3</th>\n",
              "      <td>0.004584</td>\n",
              "      <td>0.000038</td>\n",
              "      <td>0.000834</td>\n",
              "      <td>0.000024</td>\n",
              "      <td>4</td>\n",
              "      <td>3</td>\n",
              "      <td>NaN</td>\n",
              "      <td>{'max_features': 4, 'n_estimators': 3}</td>\n",
              "      <td>-0.095601</td>\n",
              "      <td>-0.224398</td>\n",
              "      <td>-0.088560</td>\n",
              "      <td>-0.195994</td>\n",
              "      <td>-0.113512</td>\n",
              "      <td>-0.143613</td>\n",
              "      <td>0.055699</td>\n",
              "      <td>14</td>\n",
              "      <td>-0.027849</td>\n",
              "      <td>-0.019771</td>\n",
              "      <td>-0.025936</td>\n",
              "      <td>-0.027547</td>\n",
              "      <td>-2.252187e-02</td>\n",
              "      <td>-0.024725</td>\n",
              "      <td>0.003117</td>\n",
              "    </tr>\n",
              "    <tr>\n",
              "      <th>4</th>\n",
              "      <td>0.013401</td>\n",
              "      <td>0.000479</td>\n",
              "      <td>0.001417</td>\n",
              "      <td>0.000091</td>\n",
              "      <td>4</td>\n",
              "      <td>10</td>\n",
              "      <td>NaN</td>\n",
              "      <td>{'max_features': 4, 'n_estimators': 10}</td>\n",
              "      <td>-0.077034</td>\n",
              "      <td>-0.180337</td>\n",
              "      <td>-0.074752</td>\n",
              "      <td>-0.168337</td>\n",
              "      <td>-0.106931</td>\n",
              "      <td>-0.121478</td>\n",
              "      <td>0.044789</td>\n",
              "      <td>5</td>\n",
              "      <td>-0.018297</td>\n",
              "      <td>-0.012753</td>\n",
              "      <td>-0.016213</td>\n",
              "      <td>-0.017975</td>\n",
              "      <td>-1.719675e-02</td>\n",
              "      <td>-0.016487</td>\n",
              "      <td>0.002001</td>\n",
              "    </tr>\n",
              "    <tr>\n",
              "      <th>5</th>\n",
              "      <td>0.040126</td>\n",
              "      <td>0.003041</td>\n",
              "      <td>0.002717</td>\n",
              "      <td>0.000312</td>\n",
              "      <td>4</td>\n",
              "      <td>30</td>\n",
              "      <td>NaN</td>\n",
              "      <td>{'max_features': 4, 'n_estimators': 30}</td>\n",
              "      <td>-0.066184</td>\n",
              "      <td>-0.173337</td>\n",
              "      <td>-0.075475</td>\n",
              "      <td>-0.158121</td>\n",
              "      <td>-0.106330</td>\n",
              "      <td>-0.115889</td>\n",
              "      <td>0.043079</td>\n",
              "      <td>4</td>\n",
              "      <td>-0.017901</td>\n",
              "      <td>-0.012906</td>\n",
              "      <td>-0.017955</td>\n",
              "      <td>-0.014838</td>\n",
              "      <td>-1.425453e-02</td>\n",
              "      <td>-0.015571</td>\n",
              "      <td>0.002024</td>\n",
              "    </tr>\n",
              "    <tr>\n",
              "      <th>6</th>\n",
              "      <td>0.004786</td>\n",
              "      <td>0.000143</td>\n",
              "      <td>0.000877</td>\n",
              "      <td>0.000019</td>\n",
              "      <td>6</td>\n",
              "      <td>3</td>\n",
              "      <td>NaN</td>\n",
              "      <td>{'max_features': 6, 'n_estimators': 3}</td>\n",
              "      <td>-0.094410</td>\n",
              "      <td>-0.184095</td>\n",
              "      <td>-0.083230</td>\n",
              "      <td>-0.143045</td>\n",
              "      <td>-0.126190</td>\n",
              "      <td>-0.126194</td>\n",
              "      <td>0.036035</td>\n",
              "      <td>10</td>\n",
              "      <td>-0.036654</td>\n",
              "      <td>-0.017250</td>\n",
              "      <td>-0.025126</td>\n",
              "      <td>-0.023625</td>\n",
              "      <td>-2.208877e-02</td>\n",
              "      <td>-0.024949</td>\n",
              "      <td>0.006423</td>\n",
              "    </tr>\n",
              "    <tr>\n",
              "      <th>7</th>\n",
              "      <td>0.014314</td>\n",
              "      <td>0.000493</td>\n",
              "      <td>0.001457</td>\n",
              "      <td>0.000046</td>\n",
              "      <td>6</td>\n",
              "      <td>10</td>\n",
              "      <td>NaN</td>\n",
              "      <td>{'max_features': 6, 'n_estimators': 10}</td>\n",
              "      <td>-0.076272</td>\n",
              "      <td>-0.172720</td>\n",
              "      <td>-0.077898</td>\n",
              "      <td>-0.135635</td>\n",
              "      <td>-0.094802</td>\n",
              "      <td>-0.111465</td>\n",
              "      <td>0.037361</td>\n",
              "      <td>2</td>\n",
              "      <td>-0.019257</td>\n",
              "      <td>-0.012282</td>\n",
              "      <td>-0.016955</td>\n",
              "      <td>-0.017777</td>\n",
              "      <td>-1.688209e-02</td>\n",
              "      <td>-0.016630</td>\n",
              "      <td>0.002336</td>\n",
              "    </tr>\n",
              "    <tr>\n",
              "      <th>8</th>\n",
              "      <td>0.038238</td>\n",
              "      <td>0.000673</td>\n",
              "      <td>0.002568</td>\n",
              "      <td>0.000026</td>\n",
              "      <td>6</td>\n",
              "      <td>30</td>\n",
              "      <td>NaN</td>\n",
              "      <td>{'max_features': 6, 'n_estimators': 30}</td>\n",
              "      <td>-0.065568</td>\n",
              "      <td>-0.168738</td>\n",
              "      <td>-0.060351</td>\n",
              "      <td>-0.137908</td>\n",
              "      <td>-0.102356</td>\n",
              "      <td>-0.106984</td>\n",
              "      <td>0.041668</td>\n",
              "      <td>1</td>\n",
              "      <td>-0.017720</td>\n",
              "      <td>-0.012425</td>\n",
              "      <td>-0.016783</td>\n",
              "      <td>-0.014288</td>\n",
              "      <td>-1.352776e-02</td>\n",
              "      <td>-0.014949</td>\n",
              "      <td>0.001993</td>\n",
              "    </tr>\n",
              "    <tr>\n",
              "      <th>9</th>\n",
              "      <td>0.002599</td>\n",
              "      <td>0.000087</td>\n",
              "      <td>0.000000</td>\n",
              "      <td>0.000000</td>\n",
              "      <td>8</td>\n",
              "      <td>3</td>\n",
              "      <td>NaN</td>\n",
              "      <td>{'max_features': 8, 'n_estimators': 3}</td>\n",
              "      <td>NaN</td>\n",
              "      <td>NaN</td>\n",
              "      <td>NaN</td>\n",
              "      <td>NaN</td>\n",
              "      <td>NaN</td>\n",
              "      <td>NaN</td>\n",
              "      <td>NaN</td>\n",
              "      <td>16</td>\n",
              "      <td>NaN</td>\n",
              "      <td>NaN</td>\n",
              "      <td>NaN</td>\n",
              "      <td>NaN</td>\n",
              "      <td>NaN</td>\n",
              "      <td>NaN</td>\n",
              "      <td>NaN</td>\n",
              "    </tr>\n",
              "    <tr>\n",
              "      <th>10</th>\n",
              "      <td>0.005184</td>\n",
              "      <td>0.000011</td>\n",
              "      <td>0.000000</td>\n",
              "      <td>0.000000</td>\n",
              "      <td>8</td>\n",
              "      <td>10</td>\n",
              "      <td>NaN</td>\n",
              "      <td>{'max_features': 8, 'n_estimators': 10}</td>\n",
              "      <td>NaN</td>\n",
              "      <td>NaN</td>\n",
              "      <td>NaN</td>\n",
              "      <td>NaN</td>\n",
              "      <td>NaN</td>\n",
              "      <td>NaN</td>\n",
              "      <td>NaN</td>\n",
              "      <td>17</td>\n",
              "      <td>NaN</td>\n",
              "      <td>NaN</td>\n",
              "      <td>NaN</td>\n",
              "      <td>NaN</td>\n",
              "      <td>NaN</td>\n",
              "      <td>NaN</td>\n",
              "      <td>NaN</td>\n",
              "    </tr>\n",
              "    <tr>\n",
              "      <th>11</th>\n",
              "      <td>0.013018</td>\n",
              "      <td>0.000202</td>\n",
              "      <td>0.000000</td>\n",
              "      <td>0.000000</td>\n",
              "      <td>8</td>\n",
              "      <td>30</td>\n",
              "      <td>NaN</td>\n",
              "      <td>{'max_features': 8, 'n_estimators': 30}</td>\n",
              "      <td>NaN</td>\n",
              "      <td>NaN</td>\n",
              "      <td>NaN</td>\n",
              "      <td>NaN</td>\n",
              "      <td>NaN</td>\n",
              "      <td>NaN</td>\n",
              "      <td>NaN</td>\n",
              "      <td>18</td>\n",
              "      <td>NaN</td>\n",
              "      <td>NaN</td>\n",
              "      <td>NaN</td>\n",
              "      <td>NaN</td>\n",
              "      <td>NaN</td>\n",
              "      <td>NaN</td>\n",
              "      <td>NaN</td>\n",
              "    </tr>\n",
              "    <tr>\n",
              "      <th>12</th>\n",
              "      <td>0.003682</td>\n",
              "      <td>0.000145</td>\n",
              "      <td>0.000876</td>\n",
              "      <td>0.000059</td>\n",
              "      <td>2</td>\n",
              "      <td>3</td>\n",
              "      <td>False</td>\n",
              "      <td>{'bootstrap': False, 'max_features': 2, 'n_est...</td>\n",
              "      <td>-0.082206</td>\n",
              "      <td>-0.162062</td>\n",
              "      <td>-0.077834</td>\n",
              "      <td>-0.169075</td>\n",
              "      <td>-0.140656</td>\n",
              "      <td>-0.126366</td>\n",
              "      <td>0.039007</td>\n",
              "      <td>11</td>\n",
              "      <td>-0.000082</td>\n",
              "      <td>-0.000011</td>\n",
              "      <td>-0.000011</td>\n",
              "      <td>-0.000008</td>\n",
              "      <td>-1.232595e-31</td>\n",
              "      <td>-0.000023</td>\n",
              "      <td>0.000030</td>\n",
              "    </tr>\n",
              "    <tr>\n",
              "      <th>13</th>\n",
              "      <td>0.011396</td>\n",
              "      <td>0.001954</td>\n",
              "      <td>0.001449</td>\n",
              "      <td>0.000044</td>\n",
              "      <td>2</td>\n",
              "      <td>10</td>\n",
              "      <td>False</td>\n",
              "      <td>{'bootstrap': False, 'max_features': 2, 'n_est...</td>\n",
              "      <td>-0.067786</td>\n",
              "      <td>-0.168689</td>\n",
              "      <td>-0.063516</td>\n",
              "      <td>-0.178440</td>\n",
              "      <td>-0.138600</td>\n",
              "      <td>-0.123406</td>\n",
              "      <td>0.048970</td>\n",
              "      <td>7</td>\n",
              "      <td>-0.000023</td>\n",
              "      <td>-0.000011</td>\n",
              "      <td>-0.000011</td>\n",
              "      <td>-0.000008</td>\n",
              "      <td>-4.770833e-06</td>\n",
              "      <td>-0.000012</td>\n",
              "      <td>0.000006</td>\n",
              "    </tr>\n",
              "    <tr>\n",
              "      <th>14</th>\n",
              "      <td>0.004274</td>\n",
              "      <td>0.000658</td>\n",
              "      <td>0.000901</td>\n",
              "      <td>0.000068</td>\n",
              "      <td>3</td>\n",
              "      <td>3</td>\n",
              "      <td>False</td>\n",
              "      <td>{'bootstrap': False, 'max_features': 3, 'n_est...</td>\n",
              "      <td>-0.093831</td>\n",
              "      <td>-0.216041</td>\n",
              "      <td>-0.072135</td>\n",
              "      <td>-0.179442</td>\n",
              "      <td>-0.122179</td>\n",
              "      <td>-0.136726</td>\n",
              "      <td>0.053552</td>\n",
              "      <td>13</td>\n",
              "      <td>-0.000008</td>\n",
              "      <td>-0.000011</td>\n",
              "      <td>-0.000011</td>\n",
              "      <td>-0.000008</td>\n",
              "      <td>-1.232595e-31</td>\n",
              "      <td>-0.000008</td>\n",
              "      <td>0.000004</td>\n",
              "    </tr>\n",
              "    <tr>\n",
              "      <th>15</th>\n",
              "      <td>0.010663</td>\n",
              "      <td>0.001153</td>\n",
              "      <td>0.001548</td>\n",
              "      <td>0.000337</td>\n",
              "      <td>3</td>\n",
              "      <td>10</td>\n",
              "      <td>False</td>\n",
              "      <td>{'bootstrap': False, 'max_features': 3, 'n_est...</td>\n",
              "      <td>-0.089066</td>\n",
              "      <td>-0.181715</td>\n",
              "      <td>-0.070678</td>\n",
              "      <td>-0.166292</td>\n",
              "      <td>-0.111205</td>\n",
              "      <td>-0.123791</td>\n",
              "      <td>0.043236</td>\n",
              "      <td>8</td>\n",
              "      <td>-0.000008</td>\n",
              "      <td>-0.000011</td>\n",
              "      <td>-0.000011</td>\n",
              "      <td>-0.000008</td>\n",
              "      <td>-4.437343e-31</td>\n",
              "      <td>-0.000008</td>\n",
              "      <td>0.000004</td>\n",
              "    </tr>\n",
              "    <tr>\n",
              "      <th>16</th>\n",
              "      <td>0.003944</td>\n",
              "      <td>0.000588</td>\n",
              "      <td>0.000953</td>\n",
              "      <td>0.000197</td>\n",
              "      <td>4</td>\n",
              "      <td>3</td>\n",
              "      <td>False</td>\n",
              "      <td>{'bootstrap': False, 'max_features': 4, 'n_est...</td>\n",
              "      <td>-0.092064</td>\n",
              "      <td>-0.163285</td>\n",
              "      <td>-0.104872</td>\n",
              "      <td>-0.264026</td>\n",
              "      <td>-0.140147</td>\n",
              "      <td>-0.152879</td>\n",
              "      <td>0.061036</td>\n",
              "      <td>15</td>\n",
              "      <td>-0.000008</td>\n",
              "      <td>-0.000011</td>\n",
              "      <td>-0.000011</td>\n",
              "      <td>-0.000008</td>\n",
              "      <td>-1.232595e-31</td>\n",
              "      <td>-0.000008</td>\n",
              "      <td>0.000004</td>\n",
              "    </tr>\n",
              "    <tr>\n",
              "      <th>17</th>\n",
              "      <td>0.010443</td>\n",
              "      <td>0.000464</td>\n",
              "      <td>0.001388</td>\n",
              "      <td>0.000035</td>\n",
              "      <td>4</td>\n",
              "      <td>10</td>\n",
              "      <td>False</td>\n",
              "      <td>{'bootstrap': False, 'max_features': 4, 'n_est...</td>\n",
              "      <td>-0.084592</td>\n",
              "      <td>-0.181774</td>\n",
              "      <td>-0.076192</td>\n",
              "      <td>-0.170325</td>\n",
              "      <td>-0.134840</td>\n",
              "      <td>-0.129544</td>\n",
              "      <td>0.043096</td>\n",
              "      <td>12</td>\n",
              "      <td>-0.000017</td>\n",
              "      <td>-0.000011</td>\n",
              "      <td>-0.000011</td>\n",
              "      <td>-0.000008</td>\n",
              "      <td>-4.437343e-31</td>\n",
              "      <td>-0.000009</td>\n",
              "      <td>0.000005</td>\n",
              "    </tr>\n",
              "  </tbody>\n",
              "</table>\n",
              "</div>"
            ],
            "text/plain": [
              "    mean_fit_time  std_fit_time  ...  mean_train_score  std_train_score\n",
              "0        0.004980      0.000615  ...         -0.031031         0.006471\n",
              "1        0.013976      0.001632  ...         -0.017696         0.002143\n",
              "2        0.041160      0.002921  ...         -0.016320         0.002046\n",
              "3        0.004584      0.000038  ...         -0.024725         0.003117\n",
              "4        0.013401      0.000479  ...         -0.016487         0.002001\n",
              "5        0.040126      0.003041  ...         -0.015571         0.002024\n",
              "6        0.004786      0.000143  ...         -0.024949         0.006423\n",
              "7        0.014314      0.000493  ...         -0.016630         0.002336\n",
              "8        0.038238      0.000673  ...         -0.014949         0.001993\n",
              "9        0.002599      0.000087  ...               NaN              NaN\n",
              "10       0.005184      0.000011  ...               NaN              NaN\n",
              "11       0.013018      0.000202  ...               NaN              NaN\n",
              "12       0.003682      0.000145  ...         -0.000023         0.000030\n",
              "13       0.011396      0.001954  ...         -0.000012         0.000006\n",
              "14       0.004274      0.000658  ...         -0.000008         0.000004\n",
              "15       0.010663      0.001153  ...         -0.000008         0.000004\n",
              "16       0.003944      0.000588  ...         -0.000008         0.000004\n",
              "17       0.010443      0.000464  ...         -0.000009         0.000005\n",
              "\n",
              "[18 rows x 23 columns]"
            ]
          },
          "metadata": {
            "tags": []
          },
          "execution_count": 170
        }
      ]
    }
  ]
}